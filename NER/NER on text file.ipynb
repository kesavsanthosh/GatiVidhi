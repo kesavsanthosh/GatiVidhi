{
  "nbformat": 4,
  "nbformat_minor": 0,
  "metadata": {
    "colab": {
      "provenance": []
    },
    "kernelspec": {
      "name": "python3",
      "display_name": "Python 3"
    },
    "language_info": {
      "name": "python"
    }
  },
  "cells": [
    {
      "cell_type": "code",
      "execution_count": null,
      "metadata": {
        "id": "ZQXH-W8n5o_q"
      },
      "outputs": [],
      "source": [
        "import spacy\n",
        "\n",
        "def perform_ner(text):\n",
        "    nlp = spacy.load(\"en_core_web_sm\")\n",
        "    doc = nlp(text)\n",
        "    named_entities = []\n",
        "\n",
        "    for ent in doc.ents:\n",
        "        named_entities.append((ent.text, ent.label_))\n",
        "\n",
        "    return named_entities\n",
        "\n",
        "if __name__ == \"__main__\":\n",
        "    input_text_file = \"/content/pune/preprocessed_text.txt\"\n",
        "\n",
        "    with open(input_text_file, \"r\", encoding=\"utf-8\") as file:\n",
        "        text = file.read()\n",
        "\n",
        "    named_entities = perform_ner(text)\n",
        "    for entity, entity_type in named_entities:\n",
        "        print(f\"Entity: {entity}\")"
      ]
    }
  ]
}