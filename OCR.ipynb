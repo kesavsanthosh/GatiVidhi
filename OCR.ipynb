{
 "cells": [
  {
   "cell_type": "code",
   "execution_count": 1,
   "id": "5db641d1",
   "metadata": {},
   "outputs": [
    {
     "name": "stdout",
     "output_type": "stream",
     "text": [
      "Requirement already satisfied: python-docx in c:\\users\\venkata vignesh\\anaconda3\\lib\\site-packages (0.8.11)\n",
      "Requirement already satisfied: lxml>=2.3.2 in c:\\users\\venkata vignesh\\anaconda3\\lib\\site-packages (from python-docx) (4.9.1)\n",
      "Requirement already satisfied: PyMuPDF in c:\\users\\venkata vignesh\\anaconda3\\lib\\site-packages (1.22.5)\n",
      "Requirement already satisfied: pillow in c:\\users\\venkata vignesh\\anaconda3\\lib\\site-packages (9.4.0)\n"
     ]
    }
   ],
   "source": [
    "!pip install python-docx\n",
    "!pip install PyMuPDF\n",
    "!pip install pillow\n"
   ]
  },
  {
   "cell_type": "code",
   "execution_count": 21,
   "id": "776cdb5c",
   "metadata": {},
   "outputs": [
    {
     "name": "stdout",
     "output_type": "stream",
     "text": [
      "Scanned PDF converted to Word and saved to: output-2.docx\n"
     ]
    }
   ],
   "source": [
    "import docx\n",
    "import fitz\n",
    "import pytesseract\n",
    "from PIL import Image\n",
    "import re\n",
    "\n",
    "# Set the path to the Tesseract executable\n",
    "pytesseract.pytesseract.tesseract_cmd = r'C:\\Program Files\\Tesseract-OCR\\tesseract.exe'\n",
    "def ocr_image(image):\n",
    "    return pytesseract.image_to_string(image, lang='eng')\n",
    "\n",
    "def clean_text(text):\n",
    "    # Remove extra line breaks and multiple spaces\n",
    "    cleaned_text = re.sub(r'\\n+', ' ', text)\n",
    "    cleaned_text = re.sub(r' +', ' ', cleaned_text)\n",
    "\n",
    "    # Remove page breaks\n",
    "    cleaned_text = cleaned_text.replace('\\x0c', '')\n",
    "\n",
    "    # Add a line break before each point (number followed by a full stop)\n",
    "    cleaned_text = re.sub(r'(\\d+\\.)', r'\\n\\1', cleaned_text)\n",
    "\n",
    "    return cleaned_text.strip()\n",
    "\n",
    "def scanned_pdf_to_word(pdf_path, output_path):\n",
    "    try:\n",
    "        # Create a new Word document\n",
    "        doc = docx.Document()\n",
    "\n",
    "        # Open the scanned PDF file using PyMuPDF (fitz)\n",
    "        with fitz.open(pdf_path) as pdf_document:\n",
    "            # Initialize a variable to store the content of all pages as a single paragraph\n",
    "            full_text = \"\"\n",
    "\n",
    "            # Process each page\n",
    "            for page_num in range(pdf_document.page_count):\n",
    "                page = pdf_document[page_num]\n",
    "\n",
    "                # Render the page as an image\n",
    "                image = page.get_pixmap()\n",
    "                img = Image.frombytes(\"RGB\", [image.width, image.height], image.samples)\n",
    "\n",
    "                # Perform OCR on the image to extract text\n",
    "                text = ocr_image(img)\n",
    "\n",
    "                # Clean the extracted text\n",
    "                cleaned_text = clean_text(text)\n",
    "\n",
    "                # Append the cleaned text to the full_text variable\n",
    "                full_text += cleaned_text + \" \"\n",
    "\n",
    "        # Add the full text as a single paragraph in the Word document\n",
    "        doc.add_paragraph(full_text)\n",
    "        \n",
    "        # Save the Word document to the specified output path\n",
    "        doc.save(output_path)\n",
    "\n",
    "        print(f\"Scanned PDF converted to Word and saved to: {output_path}\")\n",
    "    except Exception as e:\n",
    "        print(f\"Error while converting the scanned PDF: {e}\")\n",
    "\n",
    "# Replace 'path/to/your/scanned_document.pdf' with the actual path of your scanned PDF\n",
    "pdf_path = 'Petition-1.pdf'\n",
    "\n",
    "# Replace 'path/to/your/output/document.docx' with the desired output path for the Word document\n",
    "output_path = 'output-2.docx'\n",
    "\n",
    "scanned_pdf_to_word(pdf_path, output_path)\n",
    "\n"
   ]
  },
  {
   "cell_type": "code",
   "execution_count": null,
   "id": "52417436",
   "metadata": {},
   "outputs": [],
   "source": []
  },
  {
   "cell_type": "code",
   "execution_count": null,
   "id": "3c5f9453",
   "metadata": {},
   "outputs": [],
   "source": []
  },
  {
   "cell_type": "code",
   "execution_count": null,
   "id": "098ed6ed",
   "metadata": {},
   "outputs": [],
   "source": []
  },
  {
   "cell_type": "code",
   "execution_count": null,
   "id": "553c88fc",
   "metadata": {},
   "outputs": [],
   "source": [
    "\n"
   ]
  },
  {
   "cell_type": "code",
   "execution_count": null,
   "id": "5fe86ad2",
   "metadata": {},
   "outputs": [],
   "source": []
  },
  {
   "cell_type": "code",
   "execution_count": null,
   "id": "2b1ae571",
   "metadata": {},
   "outputs": [],
   "source": []
  }
 ],
 "metadata": {
  "kernelspec": {
   "display_name": "Python 3 (ipykernel)",
   "language": "python",
   "name": "python3"
  },
  "language_info": {
   "codemirror_mode": {
    "name": "ipython",
    "version": 3
   },
   "file_extension": ".py",
   "mimetype": "text/x-python",
   "name": "python",
   "nbconvert_exporter": "python",
   "pygments_lexer": "ipython3",
   "version": "3.10.9"
  }
 },
 "nbformat": 4,
 "nbformat_minor": 5
}
