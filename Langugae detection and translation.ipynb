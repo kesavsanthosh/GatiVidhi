{
  "nbformat": 4,
  "nbformat_minor": 0,
  "metadata": {
    "colab": {
      "provenance": []
    },
    "kernelspec": {
      "name": "python3",
      "display_name": "Python 3"
    },
    "language_info": {
      "name": "python"
    }
  },
  "cells": [
    {
      "cell_type": "code",
      "execution_count": null,
      "metadata": {
        "id": "ZQXH-W8n5o_q"
      },
      "outputs": [],
      "source": [
        "pip install langdetect"
      ]
    },
    {
      "cell_type": "code",
      "source": [
        "pip install -U deep-translator"
      ],
      "metadata": {
        "id": "di7zXE329RSY"
      },
      "execution_count": null,
      "outputs": []
    },
    {
      "cell_type": "code",
      "source": [
        "from deep_translator import GoogleTranslator\n",
        "from langdetect import detect\n",
        "\n",
        "\n",
        "text=\"Hi! My name is Altaf\"\n",
        "result_lang = detect(text)\n",
        "print(result_lang)\n",
        "GoogleTranslator(source='auto', target='it').translate(text)"
      ],
      "metadata": {
        "id": "feb6lnZR9R_x"
      },
      "execution_count": null,
      "outputs": []
    }
  ]
}