{
  "nbformat": 4,
  "nbformat_minor": 0,
  "metadata": {
    "colab": {
      "provenance": []
    },
    "kernelspec": {
      "name": "python3",
      "display_name": "Python 3"
    },
    "language_info": {
      "name": "python"
    }
  },
  "cells": [
    {
      "cell_type": "code",
      "execution_count": null,
      "metadata": {
        "id": "ZQXH-W8n5o_q"
      },
      "outputs": [],
      "source": [
        "import pytesseract\n",
        "from pdf2image import convert_from_path\n",
        "import glob\n",
        "\n",
        "pdfs = glob.glob(r\"/content/1.Petition.pdf\")\n",
        "\n",
        "for pdf_path in pdfs:\n",
        "    pages = convert_from_path(pdf_path, 500)\n",
        "\n",
        "    for pageNum,imgBlob in enumerate(pages):\n",
        "        text = pytesseract.image_to_string(imgBlob,lang='eng')\n",
        "\n",
        "        with open(f'{pdf_path[:-4]}_page{pageNum}.txt', 'w') as the_file:\n",
        "            the_file.write(text)"
      ]
    }
  ]
}