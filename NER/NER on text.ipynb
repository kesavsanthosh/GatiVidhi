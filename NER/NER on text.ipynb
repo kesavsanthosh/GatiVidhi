{
  "nbformat": 4,
  "nbformat_minor": 0,
  "metadata": {
    "colab": {
      "provenance": []
    },
    "kernelspec": {
      "name": "python3",
      "display_name": "Python 3"
    },
    "language_info": {
      "name": "python"
    }
  },
  "cells": [
    {
      "cell_type": "code",
      "execution_count": null,
      "metadata": {
        "id": "ZQXH-W8n5o_q"
      },
      "outputs": [],
      "source": [
        "import nltk\n",
        "nltk.download('punkt')\n",
        "nltk.download('averaged_perceptron_tagger')\n",
        "nltk.download('maxent_ne_chunker')\n",
        "nltk.download('words')"
      ]
    },
    {
      "cell_type": "code",
      "source": [
        "import nltk\n",
        "\n",
        "def extract_entities(text):\n",
        "    entities = []\n",
        "    sentences = nltk.sent_tokenize(text)\n",
        "    for sentence in sentences:\n",
        "        tokens = nltk.word_tokenize(sentence)\n",
        "        tagged = nltk.pos_tag(tokens)\n",
        "        entities.extend(nltk.ne_chunk(tagged, binary=True))\n",
        "    return entities\n",
        "\n",
        "# Example usage\n",
        "dataset = [\n",
        "\n",
        "\"John Smith\"\n",
        "\"123 Main Street\"\n",
        "\"Anytown, State\"\n",
        "\"Email: johnsmith@email.com\"\n",
        "\"Phone: (555) 123-4567\"\n",
        "\"Date: July 1, 2023\"\n",
        "\n",
        "\"Jane Doe\"\n",
        "\"Claims Adjuster\"\n",
        "\"ABC Insurance Company\"\n",
        "\"456 Elm Street\"\n",
        "\"Anytown, State\"\n",
        "\n",
        "\"Dear Ms. Doe,\"\n",
        "\n",
        "\"Re: Third-Party Claim for Damages\"\n",
        "\n",
        "\"I am writing to assert a claim against ABC Insurance Company for damages resulting from an incident that occurred on June 15, 2023. I believe that ABC Insurance Company is responsible for the injuries and losses I have suffered as a result of their negligent actions.\"\n",
        "\n",
        "\"On June 15, 2023, at the intersection of Oak Avenue and Maple Street, a driver insured by ABC Insurance Company collided with my vehicle while running a red light, causing significant damage to my car and resulting in physical injuries to myself.\"\n",
        "\n",
        "\"Based on the information available to me, it is evident that the insured driver acted negligently and breached their duty of care, which led to the following damages:\"\n",
        "\n",
        "\"1. Property Damage: The collision resulted in extensive damage to my vehicle, including a smashed front bumper, broken headlights, and dents along the side of the car. The estimated repair cost is approximately $5,000.\"\n",
        "\n",
        "\"2. Medical Expenses: As a result of the accident, I suffered whiplash and required medical treatment. The associated medical expenses, including doctor's visits, diagnostic tests, and prescribed medications, amount to approximately $2,500.\"\n",
        "\n",
        "\"I have attached supporting evidence, including photographs of the accident scene and damage to my vehicle, as well as medical reports from my treating physician, to substantiate my claim.\"\n",
        "\n",
        "\"Considering the extent of the damages and losses incurred, I am seeking compensation in the amount of $7,500. This amount takes into account the aforementioned damages, as well as the pain and suffering experienced, the inconvenience caused, and the impact on my daily life.\"\n",
        "\n",
        "\"I kindly request that ABC Insurance Company carefully review the facts presented and acknowledge liability for the damages caused. I ask for a written response, sent to the address provided above, within 30 days from the date of this letter.\"\n",
        "\n",
        "\"If ABC Insurance Company accepts liability, I expect a prompt resolution and fair compensation for the damages. In the event that ABC Insurance Company disputes the claim, I request a detailed written explanation.\"\n",
        "\n",
        "\"Thank you for your attention to this matter. Should you require any further information or documentation, please do not hesitate to contact me at the phone number or email address provided above.\"\n",
        "\n",
        "\"Sincerely,\"\n",
        "\n",
        "\"John Smith\"\n",
        "\n",
        "]\n",
        "\n",
        "for text in dataset:\n",
        "    entities = extract_entities(text)\n",
        "    for entity in entities:\n",
        "        if hasattr(entity, 'label') and entity.label:\n",
        "            print(entity.label(), ' '.join(c[0] for c in entity.leaves()))\n"
      ],
      "metadata": {
        "id": "J2W3lL815xw_"
      },
      "execution_count": null,
      "outputs": []
    }
  ]
}